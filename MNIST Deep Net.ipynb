{
 "cells": [
  {
   "cell_type": "markdown",
   "metadata": {},
   "source": [
    "# Deep Neural Network For MNIST Classification"
   ]
  },
  {
   "cell_type": "markdown",
   "metadata": {},
   "source": [
    "### Import the relevant packages"
   ]
  },
  {
   "cell_type": "code",
   "execution_count": 7,
   "metadata": {},
   "outputs": [],
   "source": [
    "import numpy as np\n",
    "import tensorflow as tf\n",
    "\n",
    "import tensorflow_datasets as tfds"
   ]
  },
  {
   "cell_type": "markdown",
   "metadata": {},
   "source": [
    "## Data"
   ]
  },
  {
   "cell_type": "code",
   "execution_count": 41,
   "metadata": {},
   "outputs": [],
   "source": [
    "mnist_dataset, mnist_info = tfds.load(name='mnist', with_info=True, as_supervised=True)\n",
    "\n",
    "mnist_train, mnist_test = mnist_dataset['train'], mnist_dataset['test']\n",
    "\n",
    "num_validation_samples = 0.1 * mnist_info.splits['train'].num_examples\n",
    "num_validation_samples = tf.cast(num_validation_samples, tf.int64)\n",
    "\n",
    "num_test_samples = mnist_info.splits['test'].num_examples\n",
    "num_test_samples = tf.cast(num_test_samples, tf.int64)\n",
    "\n",
    "def scale(image, label):\n",
    "    image = tf.cast(image, tf.float32) \n",
    "    image /= 255.\n",
    "    return image, label\n",
    "\n",
    "scaled_train_and_validation_data = mnist_train.map(scale)\n",
    "\n",
    "test_data = mnist_test.map(scale)\n",
    "\n",
    "#To shuffle the data, so it can be as random as possible\n",
    "\n",
    "BUFFER_SIZE = 10000\n",
    "\n",
    "shuffled_train_and_validation_data = scaled_train_and_validation_data.shuffle(BUFFER_SIZE)\n",
    "\n",
    "validation_data = shuffled_train_and_validation_data.take(num_validation_samples)\n",
    "train_data = shuffled_train_and_validation_data.skip(num_validation_samples)\n",
    "\n",
    "BATCH_SIZE = 500\n",
    "\n",
    "train_data = train_data.batch(BATCH_SIZE)\n",
    "validation_data = validation_data.batch(num_validation_samples)\n",
    "test_data = test_data.batch(num_test_samples)\n",
    "\n",
    "validation_inputs, validation_targets = next(iter(validation_data))"
   ]
  },
  {
   "cell_type": "markdown",
   "metadata": {},
   "source": [
    "## Model  \n",
    "\n",
    "### Outline the Model"
   ]
  },
  {
   "cell_type": "code",
   "execution_count": 42,
   "metadata": {},
   "outputs": [],
   "source": [
    "input_size = 784\n",
    "output_size = 10\n",
    "hidden_layer_size = 500\n",
    "    \n",
    "model = tf.keras.Sequential([\n",
    "    tf.keras.layers.Flatten(input_shape=(28, 28, 1)), # Input Layer\n",
    "    tf.keras.layers.Dense(hidden_layer_size, activation='relu'), # 1st hidden layer\n",
    "    tf.keras.layers.Dense(hidden_layer_size, activation='relu'), # 2nd hidden layer\n",
    "    tf.keras.layers.Dense(hidden_layer_size, activation='relu'), # 3rd hidden layer\n",
    "    tf.keras.layers.Dense(output_size, activation='softmax') # output layer\n",
    "])"
   ]
  },
  {
   "cell_type": "markdown",
   "metadata": {},
   "source": [
    "### Optimizer and Loss Function"
   ]
  },
  {
   "cell_type": "code",
   "execution_count": 43,
   "metadata": {},
   "outputs": [],
   "source": [
    "model.compile(optimizer='adam', loss='sparse_categorical_crossentropy', metrics=['accuracy'])"
   ]
  },
  {
   "cell_type": "markdown",
   "metadata": {},
   "source": [
    "## Training"
   ]
  },
  {
   "cell_type": "code",
   "execution_count": 45,
   "metadata": {
    "scrolled": true
   },
   "outputs": [
    {
     "name": "stdout",
     "output_type": "stream",
     "text": [
      "Epoch 1/10\n",
      "Epoch 1/10\n",
      "108/108 - 4s - loss: 0.0265 - accuracy: 0.9915 - val_loss: 0.0278 - val_accuracy: 0.9908\n",
      "108/108 - 4s - loss: 0.0265 - accuracy: 0.9915 - val_loss: 0.0278 - val_accuracy: 0.9908\n",
      "Epoch 2/10\n",
      "Epoch 2/10\n",
      "108/108 - 4s - loss: 0.0197 - accuracy: 0.9939 - val_loss: 0.0257 - val_accuracy: 0.9922\n",
      "108/108 - 4s - loss: 0.0197 - accuracy: 0.9939 - val_loss: 0.0257 - val_accuracy: 0.9922\n",
      "Epoch 3/10\n",
      "Epoch 3/10\n",
      "108/108 - 4s - loss: 0.0167 - accuracy: 0.9948 - val_loss: 0.0228 - val_accuracy: 0.9937\n",
      "108/108 - 4s - loss: 0.0167 - accuracy: 0.9948 - val_loss: 0.0228 - val_accuracy: 0.9937\n",
      "Epoch 4/10\n",
      "Epoch 4/10\n",
      "108/108 - 5s - loss: 0.0140 - accuracy: 0.9954 - val_loss: 0.0177 - val_accuracy: 0.9955\n",
      "108/108 - 5s - loss: 0.0140 - accuracy: 0.9954 - val_loss: 0.0177 - val_accuracy: 0.9955\n",
      "Epoch 5/10\n",
      "Epoch 5/10\n",
      "108/108 - 5s - loss: 0.0142 - accuracy: 0.9954 - val_loss: 0.0140 - val_accuracy: 0.9960\n",
      "108/108 - 5s - loss: 0.0142 - accuracy: 0.9954 - val_loss: 0.0140 - val_accuracy: 0.9960\n",
      "Epoch 6/10\n",
      "Epoch 6/10\n",
      "108/108 - 5s - loss: 0.0118 - accuracy: 0.9961 - val_loss: 0.0117 - val_accuracy: 0.9967\n",
      "108/108 - 5s - loss: 0.0118 - accuracy: 0.9961 - val_loss: 0.0117 - val_accuracy: 0.9967\n",
      "Epoch 7/10\n",
      "Epoch 7/10\n",
      "108/108 - 5s - loss: 0.0108 - accuracy: 0.9964 - val_loss: 0.0104 - val_accuracy: 0.9972\n",
      "108/108 - 5s - loss: 0.0108 - accuracy: 0.9964 - val_loss: 0.0104 - val_accuracy: 0.9972\n",
      "Epoch 8/10\n",
      "Epoch 8/10\n",
      "108/108 - 5s - loss: 0.0087 - accuracy: 0.9972 - val_loss: 0.0106 - val_accuracy: 0.9967\n",
      "108/108 - 5s - loss: 0.0087 - accuracy: 0.9972 - val_loss: 0.0106 - val_accuracy: 0.9967\n",
      "Epoch 9/10\n",
      "Epoch 9/10\n",
      "108/108 - 5s - loss: 0.0103 - accuracy: 0.9964 - val_loss: 0.0175 - val_accuracy: 0.9945\n",
      "108/108 - 5s - loss: 0.0103 - accuracy: 0.9964 - val_loss: 0.0175 - val_accuracy: 0.9945\n",
      "Epoch 10/10\n",
      "Epoch 10/10\n",
      "108/108 - 5s - loss: 0.0082 - accuracy: 0.9972 - val_loss: 0.0168 - val_accuracy: 0.9950\n",
      "108/108 - 5s - loss: 0.0082 - accuracy: 0.9972 - val_loss: 0.0168 - val_accuracy: 0.9950\n"
     ]
    },
    {
     "data": {
      "text/plain": [
       "<tensorflow.python.keras.callbacks.History at 0x1afa3006108>"
      ]
     },
     "execution_count": 45,
     "metadata": {},
     "output_type": "execute_result"
    },
    {
     "data": {
      "text/plain": [
       "<tensorflow.python.keras.callbacks.History at 0x1afa3006108>"
      ]
     },
     "execution_count": 45,
     "metadata": {},
     "output_type": "execute_result"
    }
   ],
   "source": [
    "NUM_EPOCHS = 10\n",
    "\n",
    "model.fit(train_data, \n",
    "          epochs = NUM_EPOCHS,\n",
    "          validation_data = (validation_inputs, validation_targets),\n",
    "          validation_steps = 10,\n",
    "          verbose = 2)"
   ]
  },
  {
   "cell_type": "markdown",
   "metadata": {},
   "source": [
    "## Test the Model"
   ]
  },
  {
   "cell_type": "code",
   "execution_count": 46,
   "metadata": {},
   "outputs": [
    {
     "name": "stdout",
     "output_type": "stream",
     "text": [
      "      1/Unknown - 1s 700ms/step - loss: 0.0923 - accuracy: 0.9805"
     ]
    }
   ],
   "source": [
    "test_loss, test_accuracy = model.evaluate(test_data)"
   ]
  },
  {
   "cell_type": "code",
   "execution_count": 47,
   "metadata": {},
   "outputs": [
    {
     "name": "stdout",
     "output_type": "stream",
     "text": [
      "Test Loss : 0.09. Test Accuracy : 98.05%\n",
      "Test Loss : 0.09. Test Accuracy : 98.05%\n"
     ]
    }
   ],
   "source": [
    "print('Test Loss : {0:.2f}. Test Accuracy : {1:.2f}%'.format(test_loss, test_accuracy * 100.))"
   ]
  },
  {
   "cell_type": "markdown",
   "metadata": {},
   "source": [
    "#### Our Model has a Test Accuracy of ~ 98%"
   ]
  }
 ],
 "metadata": {
  "kernelspec": {
   "display_name": "Python 3",
   "language": "python",
   "name": "python3"
  },
  "language_info": {
   "codemirror_mode": {
    "name": "ipython",
    "version": 3
   },
   "file_extension": ".py",
   "mimetype": "text/x-python",
   "name": "python",
   "nbconvert_exporter": "python",
   "pygments_lexer": "ipython3",
   "version": "3.7.7"
  }
 },
 "nbformat": 4,
 "nbformat_minor": 4
}
